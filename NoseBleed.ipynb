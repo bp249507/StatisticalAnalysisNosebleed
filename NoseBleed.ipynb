{
 "cells": [
  {
   "cell_type": "markdown",
   "metadata": {},
   "source": [
    "# Nosebleed Treatment : Data Analysis"
   ]
  },
  {
   "cell_type": "code",
   "execution_count": 13,
   "metadata": {},
   "outputs": [],
   "source": [
    "%matplotlib inline\n",
    "import pandas as pd\n",
    "import matplotlib.pyplot as plt\n",
    "import seaborn as sns\n",
    "import math\n",
    "import scipy as sp\n",
    "import numpy as np\n",
    "from statsmodels.formula.api import ols\n",
    "from statsmodels.stats.api import anova_lm\n",
    "import re"
   ]
  },
  {
   "cell_type": "code",
   "execution_count": 27,
   "metadata": {},
   "outputs": [],
   "source": [
    "# import data\n",
    "dataSubject = pd.read_csv('subject.csv')\n",
    "dataEfficacy = pd.read_csv('efficacy.csv')\n",
    "dataRandomization = pd.read_csv('randomization.csv')\n",
    "allData = pd.merge(dataSubject, pd.merge(dataEfficacy, dataRandomization, on='subject'), on='subject')"
   ]
  },
  {
   "cell_type": "code",
   "execution_count": 28,
   "metadata": {},
   "outputs": [
    {
     "data": {
      "text/plain": [
       "(444, 9)"
      ]
     },
     "execution_count": 28,
     "metadata": {},
     "output_type": "execute_result"
    }
   ],
   "source": [
    "allData.shape"
   ]
  },
  {
   "cell_type": "code",
   "execution_count": 29,
   "metadata": {},
   "outputs": [
    {
     "data": {
      "text/html": [
       "<div>\n",
       "<style scoped>\n",
       "    .dataframe tbody tr th:only-of-type {\n",
       "        vertical-align: middle;\n",
       "    }\n",
       "\n",
       "    .dataframe tbody tr th {\n",
       "        vertical-align: top;\n",
       "    }\n",
       "\n",
       "    .dataframe thead th {\n",
       "        text-align: right;\n",
       "    }\n",
       "</style>\n",
       "<table border=\"1\" class=\"dataframe\">\n",
       "  <thead>\n",
       "    <tr style=\"text-align: right;\">\n",
       "      <th></th>\n",
       "      <th>subject</th>\n",
       "      <th>country</th>\n",
       "      <th>eye.colour</th>\n",
       "      <th>tissue.use</th>\n",
       "      <th>previous.year</th>\n",
       "      <th>mucus.viscosity</th>\n",
       "      <th>nosebleeds</th>\n",
       "      <th>duration</th>\n",
       "      <th>arm</th>\n",
       "    </tr>\n",
       "  </thead>\n",
       "  <tbody>\n",
       "    <tr>\n",
       "      <th>0</th>\n",
       "      <td>359</td>\n",
       "      <td>A</td>\n",
       "      <td>BLUE</td>\n",
       "      <td>MEDIUM</td>\n",
       "      <td>2</td>\n",
       "      <td>1.304348</td>\n",
       "      <td>4</td>\n",
       "      <td>365</td>\n",
       "      <td>PLACEBO</td>\n",
       "    </tr>\n",
       "    <tr>\n",
       "      <th>1</th>\n",
       "      <td>241</td>\n",
       "      <td>A</td>\n",
       "      <td>BLUE</td>\n",
       "      <td>HIGH</td>\n",
       "      <td>2</td>\n",
       "      <td>0.869565</td>\n",
       "      <td>0</td>\n",
       "      <td>365</td>\n",
       "      <td>PLACEBO</td>\n",
       "    </tr>\n",
       "  </tbody>\n",
       "</table>\n",
       "</div>"
      ],
      "text/plain": [
       "   subject country eye.colour tissue.use  previous.year  mucus.viscosity  \\\n",
       "0      359       A       BLUE     MEDIUM              2         1.304348   \n",
       "1      241       A       BLUE       HIGH              2         0.869565   \n",
       "\n",
       "   nosebleeds  duration      arm  \n",
       "0           4       365  PLACEBO  \n",
       "1           0       365  PLACEBO  "
      ]
     },
     "execution_count": 29,
     "metadata": {},
     "output_type": "execute_result"
    }
   ],
   "source": [
    "allData.head(2)"
   ]
  },
  {
   "cell_type": "code",
   "execution_count": 30,
   "metadata": {},
   "outputs": [],
   "source": [
    "cols = allData.columns"
   ]
  },
  {
   "cell_type": "code",
   "execution_count": 32,
   "metadata": {},
   "outputs": [
    {
     "data": {
      "text/plain": [
       "Index(['subject', 'country', 'eye.colour', 'tissue.use', 'previous.year',\n",
       "       'mucus.viscosity', 'nosebleeds', 'duration', 'arm'],\n",
       "      dtype='object')"
      ]
     },
     "execution_count": 32,
     "metadata": {},
     "output_type": "execute_result"
    }
   ],
   "source": [
    "cols"
   ]
  },
  {
   "cell_type": "code",
   "execution_count": 34,
   "metadata": {},
   "outputs": [],
   "source": [
    "cols = [ re.sub('\\.','_', c) for c in cols] #replace '.' to avoid confusion\n",
    "#cols"
   ]
  },
  {
   "cell_type": "code",
   "execution_count": 36,
   "metadata": {},
   "outputs": [],
   "source": [
    "allData.columns = cols #replace the column header by new column headers"
   ]
  },
  {
   "cell_type": "code",
   "execution_count": 37,
   "metadata": {},
   "outputs": [
    {
     "data": {
      "text/html": [
       "<div>\n",
       "<style scoped>\n",
       "    .dataframe tbody tr th:only-of-type {\n",
       "        vertical-align: middle;\n",
       "    }\n",
       "\n",
       "    .dataframe tbody tr th {\n",
       "        vertical-align: top;\n",
       "    }\n",
       "\n",
       "    .dataframe thead th {\n",
       "        text-align: right;\n",
       "    }\n",
       "</style>\n",
       "<table border=\"1\" class=\"dataframe\">\n",
       "  <thead>\n",
       "    <tr style=\"text-align: right;\">\n",
       "      <th></th>\n",
       "      <th>subject</th>\n",
       "      <th>country</th>\n",
       "      <th>eye_colour</th>\n",
       "      <th>tissue_use</th>\n",
       "      <th>previous_year</th>\n",
       "      <th>mucus_viscosity</th>\n",
       "      <th>nosebleeds</th>\n",
       "      <th>duration</th>\n",
       "      <th>arm</th>\n",
       "    </tr>\n",
       "  </thead>\n",
       "  <tbody>\n",
       "    <tr>\n",
       "      <th>0</th>\n",
       "      <td>359</td>\n",
       "      <td>A</td>\n",
       "      <td>BLUE</td>\n",
       "      <td>MEDIUM</td>\n",
       "      <td>2</td>\n",
       "      <td>1.304348</td>\n",
       "      <td>4</td>\n",
       "      <td>365</td>\n",
       "      <td>PLACEBO</td>\n",
       "    </tr>\n",
       "  </tbody>\n",
       "</table>\n",
       "</div>"
      ],
      "text/plain": [
       "   subject country eye_colour tissue_use  previous_year  mucus_viscosity  \\\n",
       "0      359       A       BLUE     MEDIUM              2         1.304348   \n",
       "\n",
       "   nosebleeds  duration      arm  \n",
       "0           4       365  PLACEBO  "
      ]
     },
     "execution_count": 37,
     "metadata": {},
     "output_type": "execute_result"
    }
   ],
   "source": [
    "allData.head(1)"
   ]
  },
  {
   "cell_type": "code",
   "execution_count": 38,
   "metadata": {},
   "outputs": [
    {
     "data": {
      "text/html": [
       "<div>\n",
       "<style scoped>\n",
       "    .dataframe tbody tr th:only-of-type {\n",
       "        vertical-align: middle;\n",
       "    }\n",
       "\n",
       "    .dataframe tbody tr th {\n",
       "        vertical-align: top;\n",
       "    }\n",
       "\n",
       "    .dataframe thead th {\n",
       "        text-align: right;\n",
       "    }\n",
       "</style>\n",
       "<table border=\"1\" class=\"dataframe\">\n",
       "  <thead>\n",
       "    <tr style=\"text-align: right;\">\n",
       "      <th></th>\n",
       "      <th>subject</th>\n",
       "      <th>country</th>\n",
       "      <th>eye_colour</th>\n",
       "      <th>tissue_use</th>\n",
       "      <th>previous_year</th>\n",
       "      <th>mucus_viscosity</th>\n",
       "      <th>nosebleeds</th>\n",
       "      <th>duration</th>\n",
       "      <th>arm</th>\n",
       "    </tr>\n",
       "  </thead>\n",
       "  <tbody>\n",
       "    <tr>\n",
       "      <th>count</th>\n",
       "      <td>444</td>\n",
       "      <td>444</td>\n",
       "      <td>444</td>\n",
       "      <td>444</td>\n",
       "      <td>444</td>\n",
       "      <td>444</td>\n",
       "      <td>444</td>\n",
       "      <td>444</td>\n",
       "      <td>444</td>\n",
       "    </tr>\n",
       "    <tr>\n",
       "      <th>unique</th>\n",
       "      <td>1</td>\n",
       "      <td>1</td>\n",
       "      <td>2</td>\n",
       "      <td>1</td>\n",
       "      <td>1</td>\n",
       "      <td>2</td>\n",
       "      <td>1</td>\n",
       "      <td>1</td>\n",
       "      <td>1</td>\n",
       "    </tr>\n",
       "    <tr>\n",
       "      <th>top</th>\n",
       "      <td>False</td>\n",
       "      <td>False</td>\n",
       "      <td>False</td>\n",
       "      <td>False</td>\n",
       "      <td>False</td>\n",
       "      <td>False</td>\n",
       "      <td>False</td>\n",
       "      <td>False</td>\n",
       "      <td>False</td>\n",
       "    </tr>\n",
       "    <tr>\n",
       "      <th>freq</th>\n",
       "      <td>444</td>\n",
       "      <td>444</td>\n",
       "      <td>384</td>\n",
       "      <td>444</td>\n",
       "      <td>444</td>\n",
       "      <td>443</td>\n",
       "      <td>444</td>\n",
       "      <td>444</td>\n",
       "      <td>444</td>\n",
       "    </tr>\n",
       "  </tbody>\n",
       "</table>\n",
       "</div>"
      ],
      "text/plain": [
       "       subject country eye_colour tissue_use previous_year mucus_viscosity  \\\n",
       "count      444     444        444        444           444             444   \n",
       "unique       1       1          2          1             1               2   \n",
       "top      False   False      False      False         False           False   \n",
       "freq       444     444        384        444           444             443   \n",
       "\n",
       "       nosebleeds duration    arm  \n",
       "count         444      444    444  \n",
       "unique          1        1      1  \n",
       "top         False    False  False  \n",
       "freq          444      444    444  "
      ]
     },
     "execution_count": 38,
     "metadata": {},
     "output_type": "execute_result"
    }
   ],
   "source": [
    "#missing data?\n",
    "allData.isna().describe()"
   ]
  },
  {
   "cell_type": "code",
   "execution_count": 41,
   "metadata": {},
   "outputs": [],
   "source": [
    "# replace viscosity by mean and eye_colour by some category\n",
    "meanViscosity = np.round(allData['mucus_viscosity'].mean(),4)\n",
    "allData['mucus_viscosity'].fillna(meanViscosity, inplace=True)  # replace missing viscosity by the mean\n",
    "allData['eye_colour'].fillna('notReported', inplace=True)      # replacing missing eyecolor by 'notReported'"
   ]
  },
  {
   "cell_type": "code",
   "execution_count": 43,
   "metadata": {},
   "outputs": [
    {
     "data": {
      "text/html": [
       "<div>\n",
       "<style scoped>\n",
       "    .dataframe tbody tr th:only-of-type {\n",
       "        vertical-align: middle;\n",
       "    }\n",
       "\n",
       "    .dataframe tbody tr th {\n",
       "        vertical-align: top;\n",
       "    }\n",
       "\n",
       "    .dataframe thead th {\n",
       "        text-align: right;\n",
       "    }\n",
       "</style>\n",
       "<table border=\"1\" class=\"dataframe\">\n",
       "  <thead>\n",
       "    <tr style=\"text-align: right;\">\n",
       "      <th></th>\n",
       "      <th>subject</th>\n",
       "      <th>country</th>\n",
       "      <th>eye_colour</th>\n",
       "      <th>tissue_use</th>\n",
       "      <th>previous_year</th>\n",
       "      <th>mucus_viscosity</th>\n",
       "      <th>nosebleeds</th>\n",
       "      <th>duration</th>\n",
       "      <th>arm</th>\n",
       "    </tr>\n",
       "  </thead>\n",
       "  <tbody>\n",
       "    <tr>\n",
       "      <th>count</th>\n",
       "      <td>444</td>\n",
       "      <td>444</td>\n",
       "      <td>444</td>\n",
       "      <td>444</td>\n",
       "      <td>444</td>\n",
       "      <td>444</td>\n",
       "      <td>444</td>\n",
       "      <td>444</td>\n",
       "      <td>444</td>\n",
       "    </tr>\n",
       "    <tr>\n",
       "      <th>unique</th>\n",
       "      <td>1</td>\n",
       "      <td>1</td>\n",
       "      <td>1</td>\n",
       "      <td>1</td>\n",
       "      <td>1</td>\n",
       "      <td>1</td>\n",
       "      <td>1</td>\n",
       "      <td>1</td>\n",
       "      <td>1</td>\n",
       "    </tr>\n",
       "    <tr>\n",
       "      <th>top</th>\n",
       "      <td>False</td>\n",
       "      <td>False</td>\n",
       "      <td>False</td>\n",
       "      <td>False</td>\n",
       "      <td>False</td>\n",
       "      <td>False</td>\n",
       "      <td>False</td>\n",
       "      <td>False</td>\n",
       "      <td>False</td>\n",
       "    </tr>\n",
       "    <tr>\n",
       "      <th>freq</th>\n",
       "      <td>444</td>\n",
       "      <td>444</td>\n",
       "      <td>444</td>\n",
       "      <td>444</td>\n",
       "      <td>444</td>\n",
       "      <td>444</td>\n",
       "      <td>444</td>\n",
       "      <td>444</td>\n",
       "      <td>444</td>\n",
       "    </tr>\n",
       "  </tbody>\n",
       "</table>\n",
       "</div>"
      ],
      "text/plain": [
       "       subject country eye_colour tissue_use previous_year mucus_viscosity  \\\n",
       "count      444     444        444        444           444             444   \n",
       "unique       1       1          1          1             1               1   \n",
       "top      False   False      False      False         False           False   \n",
       "freq       444     444        444        444           444             444   \n",
       "\n",
       "       nosebleeds duration    arm  \n",
       "count         444      444    444  \n",
       "unique          1        1      1  \n",
       "top         False    False  False  \n",
       "freq          444      444    444  "
      ]
     },
     "execution_count": 43,
     "metadata": {},
     "output_type": "execute_result"
    }
   ],
   "source": [
    "allData.isna().describe()"
   ]
  },
  {
   "cell_type": "code",
   "execution_count": 57,
   "metadata": {},
   "outputs": [
    {
     "data": {
      "image/png": "[encoded data removed]",
      "text/plain": [
       "<matplotlib.figure.Figure at 0x21b117ea400>"
      ]
     },
     "metadata": {},
     "output_type": "display_data"
    }
   ],
   "source": [
    "g = sns.factorplot(x='previous_year', col='tissue_use', \n",
    "                   data=allData, kind='count', size=5, aspect=1.5, color='blue')"
   ]
  },
  {
   "cell_type": "markdown",
   "metadata": {},
   "source": [
    "### Testing effects of country, eyeColor and tissueuse on nosebleed before treatment\n",
    "#### ANOVA"
   ]
  },
  {
   "cell_type": "code",
   "execution_count": 53,
   "metadata": {},
   "outputs": [
    {
     "name": "stdout",
     "output_type": "stream",
     "text": [
      "              sum_sq     df         F    PR(>F)\n",
      "indepVar   13.630627    9.0  4.874412  0.000003\n",
      "Residual  134.846851  434.0       NaN       NaN\n"
     ]
    }
   ],
   "source": [
    "#by country\n",
    "depVar = allData.previous_year\n",
    "indepVar = allData.country\n",
    "formula = 'depVar ~ indepVar'\n",
    "lm1 = ols(formula, allData).fit()\n",
    "#print(lm1.summary())\n",
    "\n",
    "table1 = anova_lm(lm1, typ=2)\n",
    "print(table1)"
   ]
  },
  {
   "cell_type": "code",
   "execution_count": 54,
   "metadata": {},
   "outputs": [
    {
     "name": "stdout",
     "output_type": "stream",
     "text": [
      "              sum_sq     df         F    PR(>F)\n",
      "indepVar    0.678142    3.0  0.672945  0.568989\n",
      "Residual  147.799336  440.0       NaN       NaN\n"
     ]
    }
   ],
   "source": [
    "#by eyecolor\n",
    "depVar = allData.previous_year\n",
    "indepVar = allData.eye_colour\n",
    "formula = 'depVar ~ indepVar'\n",
    "lm1 = ols(formula, allData).fit()\n",
    "#print(lm1.summary())\n",
    "\n",
    "table1 = anova_lm(lm1, typ=2)\n",
    "print(table1)"
   ]
  },
  {
   "cell_type": "code",
   "execution_count": 55,
   "metadata": {},
   "outputs": [
    {
     "name": "stdout",
     "output_type": "stream",
     "text": [
      "              sum_sq     df          F    PR(>F)\n",
      "indepVar    4.250821    1.0  13.027153  0.000342\n",
      "Residual  144.226657  442.0        NaN       NaN\n"
     ]
    }
   ],
   "source": [
    "#by tissueUse\n",
    "depVar = allData.previous_year\n",
    "indepVar = allData.tissue_use\n",
    "formula = 'depVar ~ indepVar'\n",
    "lm1 = ols(formula, allData).fit()\n",
    "#print(lm1.summary())\n",
    "\n",
    "table1 = anova_lm(lm1, typ=2)\n",
    "print(table1)"
   ]
  },
  {
   "cell_type": "code",
   "execution_count": 60,
   "metadata": {},
   "outputs": [
    {
     "data": {
      "text/html": [
       "<div>\n",
       "<style scoped>\n",
       "    .dataframe tbody tr th:only-of-type {\n",
       "        vertical-align: middle;\n",
       "    }\n",
       "\n",
       "    .dataframe tbody tr th {\n",
       "        vertical-align: top;\n",
       "    }\n",
       "\n",
       "    .dataframe thead th {\n",
       "        text-align: right;\n",
       "    }\n",
       "</style>\n",
       "<table border=\"1\" class=\"dataframe\">\n",
       "  <thead>\n",
       "    <tr style=\"text-align: right;\">\n",
       "      <th></th>\n",
       "      <th>mucus_viscosity</th>\n",
       "      <th>previous_year</th>\n",
       "    </tr>\n",
       "  </thead>\n",
       "  <tbody>\n",
       "    <tr>\n",
       "      <th>mucus_viscosity</th>\n",
       "      <td>1.000000</td>\n",
       "      <td>-0.024564</td>\n",
       "    </tr>\n",
       "    <tr>\n",
       "      <th>previous_year</th>\n",
       "      <td>-0.024564</td>\n",
       "      <td>1.000000</td>\n",
       "    </tr>\n",
       "  </tbody>\n",
       "</table>\n",
       "</div>"
      ],
      "text/plain": [
       "                 mucus_viscosity  previous_year\n",
       "mucus_viscosity         1.000000      -0.024564\n",
       "previous_year          -0.024564       1.000000"
      ]
     },
     "execution_count": 60,
     "metadata": {},
     "output_type": "execute_result"
    }
   ],
   "source": [
    "allData[['mucus_viscosity','previous_year']].corr(method='spearman')"
   ]
  },
  {
   "cell_type": "code",
   "execution_count": 59,
   "metadata": {},
   "outputs": [],
   "source": [
    "# Eyecolor - Does not seem to have effect "
   ]
  },
  {
   "cell_type": "markdown",
   "metadata": {},
   "source": [
    "### After Treament\n",
    "#### Testing if the treatment made any significant change on the count of nosebleed. Lets do a t-test\n",
    "* H0 : There is no significant differenct\n",
    "* H1 : There is improvement"
   ]
  },
  {
   "cell_type": "code",
   "execution_count": 63,
   "metadata": {},
   "outputs": [
    {
     "name": "stdout",
     "output_type": "stream",
     "text": [
      "t-score: 1.3781495118402645, p: 0.1689554505330777, df: 386.0\n"
     ]
    }
   ],
   "source": [
    "from statsmodels.stats.weightstats import ttest_ind\n",
    "sample1 = allData['nosebleeds'][(allData['duration']==365) & (allData['arm']=='PLACEBO')]\n",
    "sample2 = allData['nosebleeds'][(allData['duration']==365) & (allData['arm']=='ACTIVE')]\n",
    "tscore, df, p = ttest_ind(sample1,sample2)\n",
    "print('t-score: {}, p: {}, df: {}'.format(tscore,df,p))"
   ]
  },
  {
   "cell_type": "markdown",
   "metadata": {},
   "source": [
    "### We failed to reject the H0"
   ]
  },
  {
   "cell_type": "code",
   "execution_count": 70,
   "metadata": {},
   "outputs": [
    {
     "data": {
      "image/png": "[encoded data removed]",
      "text/plain": [
       "<matplotlib.figure.Figure at 0x21b1175d898>"
      ]
     },
     "metadata": {},
     "output_type": "display_data"
    }
   ],
   "source": [
    "g = sns.factorplot(x='nosebleeds', col='arm', row='tissue_use', \n",
    "                   data=allData[allData['duration']==365], \n",
    "                   kind='count', size=2.5, aspect=1.5, color='blue')"
   ]
  },
  {
   "cell_type": "markdown",
   "metadata": {},
   "source": [
    "### Statisitcal analysis is not able to show that treatment plays a significant role. \n",
    "* Now let us focus on the case where tissue use is high"
   ]
  },
  {
   "cell_type": "code",
   "execution_count": 72,
   "metadata": {},
   "outputs": [],
   "source": [
    "highTissueData = allData[(allData['tissue_use']=='HIGH') & (allData['duration']==365)]"
   ]
  },
  {
   "cell_type": "code",
   "execution_count": 73,
   "metadata": {},
   "outputs": [
    {
     "data": {
      "text/plain": [
       "(170, 9)"
      ]
     },
     "execution_count": 73,
     "metadata": {},
     "output_type": "execute_result"
    }
   ],
   "source": [
    "highTissueData.shape"
   ]
  },
  {
   "cell_type": "code",
   "execution_count": 75,
   "metadata": {},
   "outputs": [
    {
     "data": {
      "text/html": [
       "<div>\n",
       "<style scoped>\n",
       "    .dataframe tbody tr th:only-of-type {\n",
       "        vertical-align: middle;\n",
       "    }\n",
       "\n",
       "    .dataframe tbody tr th {\n",
       "        vertical-align: top;\n",
       "    }\n",
       "\n",
       "    .dataframe thead th {\n",
       "        text-align: right;\n",
       "    }\n",
       "</style>\n",
       "<table border=\"1\" class=\"dataframe\">\n",
       "  <thead>\n",
       "    <tr style=\"text-align: right;\">\n",
       "      <th></th>\n",
       "      <th>subject</th>\n",
       "      <th>country</th>\n",
       "      <th>eye_colour</th>\n",
       "      <th>tissue_use</th>\n",
       "      <th>previous_year</th>\n",
       "      <th>mucus_viscosity</th>\n",
       "      <th>nosebleeds</th>\n",
       "      <th>duration</th>\n",
       "      <th>arm</th>\n",
       "    </tr>\n",
       "  </thead>\n",
       "  <tbody>\n",
       "    <tr>\n",
       "      <th>1</th>\n",
       "      <td>241</td>\n",
       "      <td>A</td>\n",
       "      <td>BLUE</td>\n",
       "      <td>HIGH</td>\n",
       "      <td>2</td>\n",
       "      <td>0.869565</td>\n",
       "      <td>0</td>\n",
       "      <td>365</td>\n",
       "      <td>PLACEBO</td>\n",
       "    </tr>\n",
       "    <tr>\n",
       "      <th>4</th>\n",
       "      <td>442</td>\n",
       "      <td>A</td>\n",
       "      <td>BLUE</td>\n",
       "      <td>HIGH</td>\n",
       "      <td>2</td>\n",
       "      <td>1.304348</td>\n",
       "      <td>0</td>\n",
       "      <td>365</td>\n",
       "      <td>ACTIVE</td>\n",
       "    </tr>\n",
       "  </tbody>\n",
       "</table>\n",
       "</div>"
      ],
      "text/plain": [
       "   subject country eye_colour tissue_use  previous_year  mucus_viscosity  \\\n",
       "1      241       A       BLUE       HIGH              2         0.869565   \n",
       "4      442       A       BLUE       HIGH              2         1.304348   \n",
       "\n",
       "   nosebleeds  duration      arm  \n",
       "1           0       365  PLACEBO  \n",
       "4           0       365   ACTIVE  "
      ]
     },
     "execution_count": 75,
     "metadata": {},
     "output_type": "execute_result"
    }
   ],
   "source": [
    "highTissueData.head(2)"
   ]
  },
  {
   "cell_type": "code",
   "execution_count": 80,
   "metadata": {},
   "outputs": [
    {
     "data": {
      "image/png": "[encoded data removed]",
      "text/plain": [
       "<matplotlib.figure.Figure at 0x21b113e92b0>"
      ]
     },
     "metadata": {},
     "output_type": "display_data"
    }
   ],
   "source": [
    "g = sns.factorplot(x='nosebleeds', col='arm', \n",
    "                   data=highTissueData, \n",
    "                   kind='count', size=4, aspect=1.5, color='blue')"
   ]
  },
  {
   "cell_type": "code",
   "execution_count": 78,
   "metadata": {},
   "outputs": [
    {
     "name": "stdout",
     "output_type": "stream",
     "text": [
      "t-score: 0.7057080170178328, p: 0.48134714109502486, df: 168.0\n"
     ]
    }
   ],
   "source": [
    "sample1 = highTissueData['nosebleeds'][allData['arm']=='PLACEBO']\n",
    "sample2 = highTissueData['nosebleeds'][allData['arm']=='ACTIVE']\n",
    "tscore, df, p = ttest_ind(sample1,sample2)\n",
    "print('t-score: {}, p: {}, df: {}'.format(tscore,df,p))"
   ]
  },
  {
   "cell_type": "markdown",
   "metadata": {},
   "source": [
    "#### no significant difference"
   ]
  },
  {
   "cell_type": "markdown",
   "metadata": {},
   "source": [
    "## Conclusion of the statistical analysis\n",
    "* There is not reason to believe that the treatment has significant effect."
   ]
  },
  {
   "cell_type": "code",
   "execution_count": null,
   "metadata": {},
   "outputs": [],
   "source": []
  }
 ],
 "metadata": {
  "kernelspec": {
   "display_name": "Python 3",
   "language": "python",
   "name": "python3"
  },
  "language_info": {
   "codemirror_mode": {
    "name": "ipython",
    "version": 3
   },
   "file_extension": ".py",
   "mimetype": "text/x-python",
   "name": "python",
   "nbconvert_exporter": "python",
   "pygments_lexer": "ipython3",
   "version": "3.6.4"
  }
 },
 "nbformat": 4,
 "nbformat_minor": 2
}
